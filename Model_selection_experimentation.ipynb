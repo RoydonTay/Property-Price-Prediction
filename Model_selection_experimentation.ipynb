{
 "cells": [
  {
   "attachments": {},
   "cell_type": "markdown",
   "id": "47ffd0db",
   "metadata": {},
   "source": [
    "# Model Selecton and Experimentation"
   ]
  },
  {
   "attachments": {},
   "cell_type": "markdown",
   "id": "f72efef9",
   "metadata": {},
   "source": [
    "In this notebook, I try different models to predict the property prices based on my curated dataset."
   ]
  },
  {
   "cell_type": "code",
   "execution_count": 1,
   "id": "0ea52d48",
   "metadata": {},
   "outputs": [],
   "source": [
    "import numpy as np\n",
    "import pandas as pd\n",
    "import matplotlib.pyplot as plt\n",
    "import seaborn as sns\n",
    "\n",
    "import warnings\n",
    "warnings.simplefilter(action='ignore', category=FutureWarning)"
   ]
  },
  {
   "cell_type": "code",
   "execution_count": 2,
   "id": "83fdd015",
   "metadata": {},
   "outputs": [
    {
     "data": {
      "text/html": [
       "<div>\n",
       "<style scoped>\n",
       "    .dataframe tbody tr th:only-of-type {\n",
       "        vertical-align: middle;\n",
       "    }\n",
       "\n",
       "    .dataframe tbody tr th {\n",
       "        vertical-align: top;\n",
       "    }\n",
       "\n",
       "    .dataframe thead th {\n",
       "        text-align: right;\n",
       "    }\n",
       "</style>\n",
       "<table border=\"1\" class=\"dataframe\">\n",
       "  <thead>\n",
       "    <tr style=\"text-align: right;\">\n",
       "      <th></th>\n",
       "      <th>num_area</th>\n",
       "      <th>lease_left</th>\n",
       "      <th>float_x</th>\n",
       "      <th>float_y</th>\n",
       "      <th>floor_range</th>\n",
       "      <th>property_type</th>\n",
       "      <th>num_price</th>\n",
       "    </tr>\n",
       "  </thead>\n",
       "  <tbody>\n",
       "    <tr>\n",
       "      <th>0</th>\n",
       "      <td>0.083981</td>\n",
       "      <td>0.831325</td>\n",
       "      <td>0.511658</td>\n",
       "      <td>0.011625</td>\n",
       "      <td>0.000000</td>\n",
       "      <td>0.4</td>\n",
       "      <td>2741000</td>\n",
       "    </tr>\n",
       "    <tr>\n",
       "      <th>1</th>\n",
       "      <td>0.099533</td>\n",
       "      <td>0.819277</td>\n",
       "      <td>0.511658</td>\n",
       "      <td>0.011625</td>\n",
       "      <td>0.000000</td>\n",
       "      <td>0.4</td>\n",
       "      <td>3254850</td>\n",
       "    </tr>\n",
       "    <tr>\n",
       "      <th>2</th>\n",
       "      <td>0.099533</td>\n",
       "      <td>0.819277</td>\n",
       "      <td>0.511658</td>\n",
       "      <td>0.011625</td>\n",
       "      <td>0.000000</td>\n",
       "      <td>0.4</td>\n",
       "      <td>4068160</td>\n",
       "    </tr>\n",
       "    <tr>\n",
       "      <th>3</th>\n",
       "      <td>0.083981</td>\n",
       "      <td>0.831325</td>\n",
       "      <td>0.511658</td>\n",
       "      <td>0.011625</td>\n",
       "      <td>0.000000</td>\n",
       "      <td>0.4</td>\n",
       "      <td>2793790</td>\n",
       "    </tr>\n",
       "    <tr>\n",
       "      <th>4</th>\n",
       "      <td>0.086573</td>\n",
       "      <td>0.819277</td>\n",
       "      <td>0.511658</td>\n",
       "      <td>0.011625</td>\n",
       "      <td>0.000000</td>\n",
       "      <td>0.4</td>\n",
       "      <td>3071880</td>\n",
       "    </tr>\n",
       "    <tr>\n",
       "      <th>...</th>\n",
       "      <td>...</td>\n",
       "      <td>...</td>\n",
       "      <td>...</td>\n",
       "      <td>...</td>\n",
       "      <td>...</td>\n",
       "      <td>...</td>\n",
       "      <td>...</td>\n",
       "    </tr>\n",
       "    <tr>\n",
       "      <th>84076</th>\n",
       "      <td>0.018663</td>\n",
       "      <td>0.975904</td>\n",
       "      <td>0.511910</td>\n",
       "      <td>0.871097</td>\n",
       "      <td>0.071429</td>\n",
       "      <td>0.2</td>\n",
       "      <td>1029480</td>\n",
       "    </tr>\n",
       "    <tr>\n",
       "      <th>84077</th>\n",
       "      <td>0.020736</td>\n",
       "      <td>0.975904</td>\n",
       "      <td>0.511910</td>\n",
       "      <td>0.871097</td>\n",
       "      <td>0.000000</td>\n",
       "      <td>0.2</td>\n",
       "      <td>1121420</td>\n",
       "    </tr>\n",
       "    <tr>\n",
       "      <th>84078</th>\n",
       "      <td>0.038880</td>\n",
       "      <td>0.975904</td>\n",
       "      <td>0.511910</td>\n",
       "      <td>0.871097</td>\n",
       "      <td>0.000000</td>\n",
       "      <td>0.2</td>\n",
       "      <td>1417780</td>\n",
       "    </tr>\n",
       "    <tr>\n",
       "      <th>84079</th>\n",
       "      <td>0.013478</td>\n",
       "      <td>0.975904</td>\n",
       "      <td>0.511910</td>\n",
       "      <td>0.871097</td>\n",
       "      <td>0.071429</td>\n",
       "      <td>0.2</td>\n",
       "      <td>880200</td>\n",
       "    </tr>\n",
       "    <tr>\n",
       "      <th>84080</th>\n",
       "      <td>0.004147</td>\n",
       "      <td>0.915663</td>\n",
       "      <td>0.511910</td>\n",
       "      <td>0.871097</td>\n",
       "      <td>0.142857</td>\n",
       "      <td>0.2</td>\n",
       "      <td>710000</td>\n",
       "    </tr>\n",
       "  </tbody>\n",
       "</table>\n",
       "<p>84081 rows × 7 columns</p>\n",
       "</div>"
      ],
      "text/plain": [
       "       num_area  lease_left   float_x   float_y  floor_range  property_type  \\\n",
       "0      0.083981    0.831325  0.511658  0.011625     0.000000            0.4   \n",
       "1      0.099533    0.819277  0.511658  0.011625     0.000000            0.4   \n",
       "2      0.099533    0.819277  0.511658  0.011625     0.000000            0.4   \n",
       "3      0.083981    0.831325  0.511658  0.011625     0.000000            0.4   \n",
       "4      0.086573    0.819277  0.511658  0.011625     0.000000            0.4   \n",
       "...         ...         ...       ...       ...          ...            ...   \n",
       "84076  0.018663    0.975904  0.511910  0.871097     0.071429            0.2   \n",
       "84077  0.020736    0.975904  0.511910  0.871097     0.000000            0.2   \n",
       "84078  0.038880    0.975904  0.511910  0.871097     0.000000            0.2   \n",
       "84079  0.013478    0.975904  0.511910  0.871097     0.071429            0.2   \n",
       "84080  0.004147    0.915663  0.511910  0.871097     0.142857            0.2   \n",
       "\n",
       "       num_price  \n",
       "0        2741000  \n",
       "1        3254850  \n",
       "2        4068160  \n",
       "3        2793790  \n",
       "4        3071880  \n",
       "...          ...  \n",
       "84076    1029480  \n",
       "84077    1121420  \n",
       "84078    1417780  \n",
       "84079     880200  \n",
       "84080     710000  \n",
       "\n",
       "[84081 rows x 7 columns]"
      ]
     },
     "execution_count": 2,
     "metadata": {},
     "output_type": "execute_result"
    }
   ],
   "source": [
    "final_features = pd.read_pickle(r\"Data\\final_features.pkl\")\n",
    "final_features"
   ]
  },
  {
   "cell_type": "code",
   "execution_count": 3,
   "id": "17beefc1",
   "metadata": {},
   "outputs": [],
   "source": [
    "from sklearn.model_selection import train_test_split\n",
    "\n",
    "# Split data into training and validation data, for both features and target\n",
    "y = final_features[\"num_price\"]\n",
    "X = final_features[[\"num_area\", \"floor_range\", \"property_type\", \"lease_left\", \"float_x\", \"float_y\"]]\n",
    "train_X, val_X, train_y, val_y = train_test_split(X, y, random_state=0)"
   ]
  },
  {
   "attachments": {},
   "cell_type": "markdown",
   "id": "e8eaaec4",
   "metadata": {},
   "source": [
    "### Random Forest Regressor Implementation (Vs dummy)\n",
    "\n",
    "Here I implement a dummy regressor that outputs the mean for all predictions, as a benchmark model to compare my subsequent models with. I will compare the Mean Absolute Error (MAE), Mean Squared Error (MSE) and Root Mean Squared Error (RMSE). First, I compare it with Random Forest Regressor."
   ]
  },
  {
   "cell_type": "code",
   "execution_count": 4,
   "id": "e16f8b14",
   "metadata": {},
   "outputs": [
    {
     "name": "stdout",
     "output_type": "stream",
     "text": [
      "Mean Absolute Error (Dummy): 458614.5654738787\n",
      "Mean Squared Error (Dummy): 540363704185.5847\n",
      "Root Mean Squared Error (Dummy): 735094.3505330351\n",
      "\n",
      "\n",
      "Mean Absolute Error (Rand_forest): 49888.45220375481\n",
      "Mean Squared Error (Rand_forest): 16928870118.385796\n",
      "Root Mean Squared Error (Rand_forest): 130110.9915356339\n"
     ]
    }
   ],
   "source": [
    "from sklearn.ensemble import RandomForestRegressor\n",
    "from sklearn.dummy import DummyRegressor\n",
    "from sklearn.metrics import mean_absolute_error\n",
    "from sklearn.metrics import mean_squared_error\n",
    "\n",
    "import warnings\n",
    "warnings.simplefilter(action='ignore', category=FutureWarning)\n",
    "\n",
    "# Dummy Model (mean)\n",
    "dummy_regr = DummyRegressor(strategy=\"mean\")\n",
    "dummy_regr.fit(train_X, train_y)\n",
    "data_pred = dummy_regr.predict(val_X)\n",
    "\n",
    "print(\"Mean Absolute Error (Dummy): {}\".format(mean_absolute_error(val_y, data_pred)))\n",
    "print(\"Mean Squared Error (Dummy): {}\".format(mean_squared_error(val_y, data_pred)))\n",
    "print(\"Root Mean Squared Error (Dummy): {}\".format((mean_squared_error(val_y, data_pred)**0.5)))\n",
    "print(\"\\n\")\n",
    "\n",
    "# Random Forest Regressor\n",
    "rand_forest = RandomForestRegressor(random_state=1)\n",
    "rand_forest.fit(train_X, train_y)\n",
    "data_pred = rand_forest.predict(val_X)\n",
    "\n",
    "# Printing Accuracy of Model\n",
    "print(\"Mean Absolute Error (Rand_forest): {}\".format(mean_absolute_error(val_y, data_pred)))\n",
    "print(\"Mean Squared Error (Rand_forest): {}\".format(mean_squared_error(val_y, data_pred)))\n",
    "print(\"Root Mean Squared Error (Rand_forest): {}\".format((mean_squared_error(val_y, data_pred)**0.5)))"
   ]
  },
  {
   "attachments": {},
   "cell_type": "markdown",
   "id": "bd270b3a",
   "metadata": {},
   "source": [
    "The random forest regressor performed significantly better than the dummy."
   ]
  },
  {
   "cell_type": "code",
   "execution_count": 5,
   "id": "9e269e90",
   "metadata": {
    "scrolled": true
   },
   "outputs": [
    {
     "data": {
      "image/png": "[encoded data removed]",
      "text/plain": [
       "<Figure size 640x480 with 1 Axes>"
      ]
     },
     "metadata": {},
     "output_type": "display_data"
    }
   ],
   "source": [
    "from sklearn.inspection import permutation_importance\n",
    "\n",
    "# Calculating Feature Importance\n",
    "result = permutation_importance(rand_forest, val_X, val_y)\n",
    "feature_names = [\"num_area\", \"floor_range\", \"property_type\", \"lease_left\", \"float_x\", \"float_y\"]\n",
    "forest_importances = pd.Series(result.importances_mean, index=feature_names)\n",
    "\n",
    "# Plotting Graph\n",
    "fig, ax = plt.subplots()\n",
    "forest_importances.plot.bar(yerr=result.importances_std, ax=ax)\n",
    "ax.set_title(\"Feature importances using permutation on full model\")\n",
    "ax.set_ylabel(\"Mean accuracy decrease\")\n",
    "fig.tight_layout()\n",
    "plt.show()"
   ]
  },
  {
   "attachments": {},
   "cell_type": "markdown",
   "id": "4013b44a",
   "metadata": {},
   "source": [
    "## Model Selection (Performance of other types of regressor models)\n",
    "\n",
    "In the final cell below, I tested a few other types of models to compare against the tree based model, Random Forest. \n",
    "- Ridge Regression\n",
    "- Multi-layer Perceptron Regressor (Tweaked the learning rate and max-iteration for this, since default learning rate could not converge with the default number of iterations)"
   ]
  },
  {
   "cell_type": "code",
   "execution_count": 6,
   "id": "52372394",
   "metadata": {},
   "outputs": [
    {
     "name": "stdout",
     "output_type": "stream",
     "text": [
      "Mean Absolute Error (Ridge_reg): 258164.32412280786\n",
      "Mean Squared Error (Ridge_reg): 193005045608.77643\n",
      "Root Mean Squared Error (Ridge_reg): 439323.39524406893\n",
      "\n",
      "\n"
     ]
    },
    {
     "name": "stderr",
     "output_type": "stream",
     "text": [
      "c:\\Users\\Roydon\\anaconda3\\lib\\site-packages\\sklearn\\neural_network\\_multilayer_perceptron.py:691: ConvergenceWarning: Stochastic Optimizer: Maximum iterations (1000) reached and the optimization hasn't converged yet.\n",
      "  warnings.warn(\n"
     ]
    },
    {
     "name": "stdout",
     "output_type": "stream",
     "text": [
      "Mean Absolute Error (Neural_network_reg_1): 350114.5117076467\n",
      "Mean Squared Error (Neural_network_reg_1): 329762663278.3568\n",
      "Root Mean Squared Error (Neural_network_reg_1): 574249.652397245\n",
      "\n",
      "\n",
      "Mean Absolute Error (Neural_network_reg_3): 229986.81775169994\n",
      "Mean Squared Error (Neural_network_reg_3): 136619814027.24684\n",
      "Root Mean Squared Error (Neural_network_reg_3): 369621.17637825734\n"
     ]
    }
   ],
   "source": [
    "from sklearn import linear_model\n",
    "from sklearn.neural_network import MLPRegressor\n",
    "\n",
    "# Multi-variable Linear Regression\n",
    "linear_reg = linear_model.Ridge(alpha=.5)\n",
    "linear_reg.fit(train_X, train_y)\n",
    "data_pred = linear_reg.predict(val_X)\n",
    "\n",
    "print(\"Mean Absolute Error (Ridge_reg): {}\".format(mean_absolute_error(val_y, data_pred)))\n",
    "print(\"Mean Squared Error (Ridge_reg): {}\".format(mean_squared_error(val_y, data_pred)))\n",
    "print(\"Root Mean Squared Error (Ridge_reg): {}\".format((mean_squared_error(val_y, data_pred)**0.5)))\n",
    "print(\"\\n\")\n",
    "\n",
    "# Neural Network (Multi-layer Perceptron Regressor) (1 layer, 10 nodes)\n",
    "neural_network_reg = MLPRegressor(hidden_layer_sizes=(10,), random_state=1, solver='adam', max_iter=1000, learning_rate_init= 0.01)\n",
    "neural_network_reg.fit(train_X, train_y)\n",
    "data_pred = neural_network_reg.predict(val_X)\n",
    "\n",
    "print(\"Mean Absolute Error (Neural_network_reg_1): {}\".format(mean_absolute_error(val_y, data_pred)))\n",
    "print(\"Mean Squared Error (Neural_network_reg_1): {}\".format(mean_squared_error(val_y, data_pred)))\n",
    "print(\"Root Mean Squared Error (Neural_network_reg_1): {}\".format((mean_squared_error(val_y, data_pred)**0.5)))\n",
    "print(\"\\n\")\n",
    "\n",
    "# Neural Network (Multi-layer Perceptron Regressor) (2 layer, 10 nodes each)\n",
    "neural_network_reg = MLPRegressor(hidden_layer_sizes=(10, 10), random_state=1, solver='adam', max_iter=1000, learning_rate_init= 0.01)\n",
    "neural_network_reg.fit(train_X, train_y)\n",
    "data_pred = neural_network_reg.predict(val_X)\n",
    "\n",
    "print(\"Mean Absolute Error (Neural_network_reg_3): {}\".format(mean_absolute_error(val_y, data_pred)))\n",
    "print(\"Mean Squared Error (Neural_network_reg_3): {}\".format(mean_squared_error(val_y, data_pred)))\n",
    "print(\"Root Mean Squared Error (Neural_network_reg_3): {}\".format((mean_squared_error(val_y, data_pred)**0.5)))"
   ]
  },
  {
   "attachments": {},
   "cell_type": "markdown",
   "id": "6b0d7f85",
   "metadata": {},
   "source": [
    "Compared to random forest regressor:\n",
    "\n",
    "- Mean Absolute Error (Rand_forest): 49900.75039088787\n",
    "- Mean Squared Error (Rand_forest): 16861483514.243322\n",
    "- Root Mean Squared Error (Rand_forest): 129851.77516785561\n",
    "\n",
    "Without any hyperparameter tuning, tree based model seem to outperformed other types of models significantly. Adding more nodes of the Neural Network model appears to reduce model accuracy, while increasing the number of layers improved accuracy slightly, but its performance it is still far from the accuracy of the Random Forest model.\n",
    "\n",
    "With this in consideration, I decided to compare Random Forest to another tree-based model, XGBoost, to see which performs better.\n",
    "\n",
    "## Comparing Tree Based Models (XGBoost Vs Random Forest)"
   ]
  },
  {
   "cell_type": "code",
   "execution_count": 7,
   "id": "07554240",
   "metadata": {},
   "outputs": [
    {
     "name": "stdout",
     "output_type": "stream",
     "text": [
      "Mean Absolute Error (XGBoost_Reg): 138099.23572558395\n",
      "Mean Squared Error (XGBoost_Reg): 53482020168.27897\n",
      "Root Mean Squared Error (XGBoost_Reg): 231261.80006278376\n"
     ]
    }
   ],
   "source": [
    "import xgboost as xg\n",
    "\n",
    "xgb_reg = xg.XGBRegressor(objective ='reg:squarederror', n_estimators = 10, seed = 123)\n",
    "xgb_reg.fit(train_X, train_y)\n",
    "data_pred = xgb_reg.predict(val_X)\n",
    "\n",
    "print(\"Mean Absolute Error (XGBoost_Reg): {}\".format(mean_absolute_error(val_y, data_pred)))\n",
    "print(\"Mean Squared Error (XGBoost_Reg): {}\".format(mean_squared_error(val_y, data_pred)))\n",
    "print(\"Root Mean Squared Error (XGBoost_Reg): {}\".format((mean_squared_error(val_y, data_pred)**0.5)))"
   ]
  },
  {
   "attachments": {},
   "cell_type": "markdown",
   "id": "8c36af39",
   "metadata": {},
   "source": [
    "XGBoost perfromed better than Linear and Neural Network methods as well, but still did not beat Random Forest Model. Hence, I decided to go with the Random Forest model."
   ]
  },
  {
   "cell_type": "code",
   "execution_count": 8,
   "id": "384bb2ae",
   "metadata": {},
   "outputs": [],
   "source": [
    "import pickle\n",
    "\n",
    "# Saving best model to pickle\n",
    "pickle.dump(rand_forest, open('best_model.pkl', 'wb'))"
   ]
  }
 ],
 "metadata": {
  "kernelspec": {
   "display_name": "Python 3 (ipykernel)",
   "language": "python",
   "name": "python3"
  },
  "language_info": {
   "codemirror_mode": {
    "name": "ipython",
    "version": 3
   },
   "file_extension": ".py",
   "mimetype": "text/x-python",
   "name": "python",
   "nbconvert_exporter": "python",
   "pygments_lexer": "ipython3",
   "version": "3.9.18"
  }
 },
 "nbformat": 4,
 "nbformat_minor": 5
}
