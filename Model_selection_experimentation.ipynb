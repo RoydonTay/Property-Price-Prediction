{
 "cells": [
  {
   "attachments": {},
   "cell_type": "markdown",
   "id": "47ffd0db",
   "metadata": {},
   "source": [
    "# Model Selecton and Experimentation"
   ]
  },
  {
   "attachments": {},
   "cell_type": "markdown",
   "id": "f72efef9",
   "metadata": {},
   "source": [
    "In this notebook, I try different models to predict the property prices based on my curated dataset."
   ]
  },
  {
   "cell_type": "code",
   "execution_count": 2,
   "id": "0ea52d48",
   "metadata": {},
   "outputs": [],
   "source": [
    "import numpy as np\n",
    "import pandas as pd\n",
    "import matplotlib.pyplot as plt\n",
    "import seaborn as sns\n",
    "\n",
    "import warnings\n",
    "warnings.simplefilter(action='ignore', category=FutureWarning)"
   ]
  },
  {
   "cell_type": "code",
   "execution_count": 11,
   "id": "83fdd015",
   "metadata": {},
   "outputs": [
    {
     "data": {
      "text/html": [
       "<div>\n",
       "<style scoped>\n",
       "    .dataframe tbody tr th:only-of-type {\n",
       "        vertical-align: middle;\n",
       "    }\n",
       "\n",
       "    .dataframe tbody tr th {\n",
       "        vertical-align: top;\n",
       "    }\n",
       "\n",
       "    .dataframe thead th {\n",
       "        text-align: right;\n",
       "    }\n",
       "</style>\n",
       "<table border=\"1\" class=\"dataframe\">\n",
       "  <thead>\n",
       "    <tr style=\"text-align: right;\">\n",
       "      <th></th>\n",
       "      <th>num_area</th>\n",
       "      <th>lease_left</th>\n",
       "      <th>float_x</th>\n",
       "      <th>float_y</th>\n",
       "      <th>num_price</th>\n",
       "      <th>floor_range</th>\n",
       "      <th>year_transacted</th>\n",
       "      <th>property_type</th>\n",
       "    </tr>\n",
       "  </thead>\n",
       "  <tbody>\n",
       "    <tr>\n",
       "      <th>0</th>\n",
       "      <td>524.3</td>\n",
       "      <td>999.0</td>\n",
       "      <td>22734.925781</td>\n",
       "      <td>29502.419922</td>\n",
       "      <td>5500000</td>\n",
       "      <td>0.0</td>\n",
       "      <td>3.0</td>\n",
       "      <td>7.0</td>\n",
       "    </tr>\n",
       "    <tr>\n",
       "      <th>1</th>\n",
       "      <td>308.0</td>\n",
       "      <td>999.0</td>\n",
       "      <td>22734.925781</td>\n",
       "      <td>29502.419922</td>\n",
       "      <td>5000000</td>\n",
       "      <td>0.0</td>\n",
       "      <td>1.0</td>\n",
       "      <td>7.0</td>\n",
       "    </tr>\n",
       "    <tr>\n",
       "      <th>2</th>\n",
       "      <td>314.0</td>\n",
       "      <td>999.0</td>\n",
       "      <td>22734.925781</td>\n",
       "      <td>29502.419922</td>\n",
       "      <td>4750000</td>\n",
       "      <td>0.0</td>\n",
       "      <td>1.0</td>\n",
       "      <td>7.0</td>\n",
       "    </tr>\n",
       "    <tr>\n",
       "      <th>3</th>\n",
       "      <td>308.0</td>\n",
       "      <td>999.0</td>\n",
       "      <td>22734.925781</td>\n",
       "      <td>29502.419922</td>\n",
       "      <td>5200000</td>\n",
       "      <td>0.0</td>\n",
       "      <td>4.0</td>\n",
       "      <td>7.0</td>\n",
       "    </tr>\n",
       "    <tr>\n",
       "      <th>4</th>\n",
       "      <td>257.0</td>\n",
       "      <td>999.0</td>\n",
       "      <td>20914.199219</td>\n",
       "      <td>30589.107422</td>\n",
       "      <td>4600000</td>\n",
       "      <td>0.0</td>\n",
       "      <td>5.0</td>\n",
       "      <td>6.0</td>\n",
       "    </tr>\n",
       "    <tr>\n",
       "      <th>...</th>\n",
       "      <td>...</td>\n",
       "      <td>...</td>\n",
       "      <td>...</td>\n",
       "      <td>...</td>\n",
       "      <td>...</td>\n",
       "      <td>...</td>\n",
       "      <td>...</td>\n",
       "      <td>...</td>\n",
       "    </tr>\n",
       "    <tr>\n",
       "      <th>131733</th>\n",
       "      <td>304.1</td>\n",
       "      <td>999.0</td>\n",
       "      <td>27055.871094</td>\n",
       "      <td>45402.906250</td>\n",
       "      <td>3430000</td>\n",
       "      <td>0.0</td>\n",
       "      <td>5.0</td>\n",
       "      <td>6.0</td>\n",
       "    </tr>\n",
       "    <tr>\n",
       "      <th>131734</th>\n",
       "      <td>268.2</td>\n",
       "      <td>999.0</td>\n",
       "      <td>27055.871094</td>\n",
       "      <td>45402.906250</td>\n",
       "      <td>2480000</td>\n",
       "      <td>0.0</td>\n",
       "      <td>0.0</td>\n",
       "      <td>6.0</td>\n",
       "    </tr>\n",
       "    <tr>\n",
       "      <th>131735</th>\n",
       "      <td>215.0</td>\n",
       "      <td>999.0</td>\n",
       "      <td>27055.871094</td>\n",
       "      <td>45402.906250</td>\n",
       "      <td>1100000</td>\n",
       "      <td>0.0</td>\n",
       "      <td>2.0</td>\n",
       "      <td>1.0</td>\n",
       "    </tr>\n",
       "    <tr>\n",
       "      <th>131736</th>\n",
       "      <td>295.3</td>\n",
       "      <td>999.0</td>\n",
       "      <td>27055.871094</td>\n",
       "      <td>45402.906250</td>\n",
       "      <td>3400000</td>\n",
       "      <td>0.0</td>\n",
       "      <td>4.0</td>\n",
       "      <td>6.0</td>\n",
       "    </tr>\n",
       "    <tr>\n",
       "      <th>131737</th>\n",
       "      <td>193.0</td>\n",
       "      <td>999.0</td>\n",
       "      <td>27055.871094</td>\n",
       "      <td>45402.906250</td>\n",
       "      <td>1300000</td>\n",
       "      <td>0.0</td>\n",
       "      <td>4.0</td>\n",
       "      <td>1.0</td>\n",
       "    </tr>\n",
       "  </tbody>\n",
       "</table>\n",
       "<p>131738 rows × 8 columns</p>\n",
       "</div>"
      ],
      "text/plain": [
       "        num_area  lease_left       float_x       float_y  num_price  \\\n",
       "0          524.3       999.0  22734.925781  29502.419922    5500000   \n",
       "1          308.0       999.0  22734.925781  29502.419922    5000000   \n",
       "2          314.0       999.0  22734.925781  29502.419922    4750000   \n",
       "3          308.0       999.0  22734.925781  29502.419922    5200000   \n",
       "4          257.0       999.0  20914.199219  30589.107422    4600000   \n",
       "...          ...         ...           ...           ...        ...   \n",
       "131733     304.1       999.0  27055.871094  45402.906250    3430000   \n",
       "131734     268.2       999.0  27055.871094  45402.906250    2480000   \n",
       "131735     215.0       999.0  27055.871094  45402.906250    1100000   \n",
       "131736     295.3       999.0  27055.871094  45402.906250    3400000   \n",
       "131737     193.0       999.0  27055.871094  45402.906250    1300000   \n",
       "\n",
       "        floor_range  year_transacted  property_type  \n",
       "0               0.0              3.0            7.0  \n",
       "1               0.0              1.0            7.0  \n",
       "2               0.0              1.0            7.0  \n",
       "3               0.0              4.0            7.0  \n",
       "4               0.0              5.0            6.0  \n",
       "...             ...              ...            ...  \n",
       "131733          0.0              5.0            6.0  \n",
       "131734          0.0              0.0            6.0  \n",
       "131735          0.0              2.0            1.0  \n",
       "131736          0.0              4.0            6.0  \n",
       "131737          0.0              4.0            1.0  \n",
       "\n",
       "[131738 rows x 8 columns]"
      ]
     },
     "execution_count": 11,
     "metadata": {},
     "output_type": "execute_result"
    }
   ],
   "source": [
    "final_features = pd.read_pickle(r\"C:\\Users\\Roydon\\Desktop\\Property Price Project\\Final Project Code\\Data\\final_features.pkl\")\n",
    "final_features"
   ]
  },
  {
   "cell_type": "code",
   "execution_count": 12,
   "id": "17beefc1",
   "metadata": {},
   "outputs": [],
   "source": [
    "from sklearn.model_selection import train_test_split\n",
    "\n",
    "# Split data into training and validation data, for both features and target\n",
    "y = final_features[\"num_price\"]\n",
    "X = final_features[[\"num_area\", \"floor_range\", \"year_transacted\", \"property_type\", \"lease_left\", \"float_x\", \"float_y\"]]\n",
    "train_X, val_X, train_y, val_y = train_test_split(X, y, random_state=0)"
   ]
  },
  {
   "attachments": {},
   "cell_type": "markdown",
   "id": "e8eaaec4",
   "metadata": {},
   "source": [
    "### Random Forest Regressor Implementation (Vs dummy)\n",
    "\n",
    "Here I implement a dummy regressor that outputs the mean for all predictions, as a benchmark model to compare my subsequent models with. I will compare the Mean Absolute Error (MAE), Mean Squared Error (MSE) and Root Mean Squared Error (RMSE). First, I compare it with Random Forest Regressor."
   ]
  },
  {
   "cell_type": "code",
   "execution_count": 13,
   "id": "e16f8b14",
   "metadata": {},
   "outputs": [
    {
     "name": "stdout",
     "output_type": "stream",
     "text": [
      "Mean Absolute Error (Dummy): 1024629.4251960467\n",
      "Mean Squared Error (Dummy): 5285973826681.23\n",
      "Root Mean Squared Error (Dummy): 2299124.5783300283\n",
      "\n",
      "\n",
      "Mean Absolute Error (Rand_forest): 124900.6739546748\n",
      "Mean Squared Error (Rand_forest): 528998839974.4611\n",
      "Root Mean Squared Error (Rand_forest): 727323.0643768016\n"
     ]
    }
   ],
   "source": [
    "from sklearn.ensemble import RandomForestRegressor\n",
    "from sklearn.dummy import DummyRegressor\n",
    "from sklearn.metrics import mean_absolute_error\n",
    "from sklearn.metrics import mean_squared_error\n",
    "\n",
    "import warnings\n",
    "warnings.simplefilter(action='ignore', category=FutureWarning)\n",
    "\n",
    "# Dummy Model (mean)\n",
    "dummy_regr = DummyRegressor(strategy=\"mean\")\n",
    "dummy_regr.fit(train_X, train_y)\n",
    "data_pred = dummy_regr.predict(val_X)\n",
    "\n",
    "print(\"Mean Absolute Error (Dummy): {}\".format(mean_absolute_error(val_y, data_pred)))\n",
    "print(\"Mean Squared Error (Dummy): {}\".format(mean_squared_error(val_y, data_pred)))\n",
    "print(\"Root Mean Squared Error (Dummy): {}\".format((mean_squared_error(val_y, data_pred)**0.5)))\n",
    "print(\"\\n\")\n",
    "\n",
    "# Random Forest Regressor\n",
    "rand_forest = RandomForestRegressor()\n",
    "rand_forest.fit(train_X, train_y)\n",
    "data_pred = rand_forest.predict(val_X)\n",
    "\n",
    "# Printing Accuracy of Model\n",
    "print(\"Mean Absolute Error (Rand_forest): {}\".format(mean_absolute_error(val_y, data_pred)))\n",
    "print(\"Mean Squared Error (Rand_forest): {}\".format(mean_squared_error(val_y, data_pred)))\n",
    "print(\"Root Mean Squared Error (Rand_forest): {}\".format((mean_squared_error(val_y, data_pred)**0.5)))"
   ]
  },
  {
   "attachments": {},
   "cell_type": "markdown",
   "id": "bd270b3a",
   "metadata": {},
   "source": [
    "The **random forest regressor** performed **worse than the dummy regressor for the MAE**, but performed **much better for MSE and RMSE**, which penalises more for wrong predictions. The random forest is more robust in handling outlier cases, which exist in the dataset, especially for the freehold and landed properties, as I observed in the EDA notebook."
   ]
  },
  {
   "cell_type": "code",
   "execution_count": 25,
   "id": "9e269e90",
   "metadata": {
    "scrolled": true
   },
   "outputs": [
    {
     "data": {
      "image/png": "[encoded data removed]",
      "text/plain": [
       "<Figure size 432x288 with 1 Axes>"
      ]
     },
     "metadata": {
      "needs_background": "light"
     },
     "output_type": "display_data"
    }
   ],
   "source": [
    "from sklearn.inspection import permutation_importance\n",
    "\n",
    "# Calculating Feature Importance\n",
    "result = permutation_importance(rand_forest, val_X, val_y)\n",
    "feature_names = [\"num_area\", \"floor_range\", \"year_transacted\", \"property_type\", \"lease_left\", \"float_x\", \"float_y\"]\n",
    "forest_importances = pd.Series(result.importances_mean, index=feature_names)\n",
    "\n",
    "# Plotting Graph\n",
    "fig, ax = plt.subplots()\n",
    "forest_importances.plot.bar(yerr=result.importances_std, ax=ax)\n",
    "ax.set_title(\"Feature importances using permutation on full model\")\n",
    "ax.set_ylabel(\"Mean accuracy decrease\")\n",
    "fig.tight_layout()\n",
    "plt.show()"
   ]
  },
  {
   "attachments": {},
   "cell_type": "markdown",
   "id": "8168e3f8",
   "metadata": {},
   "source": [
    "As seen from the above plot, the random forest model uses floor area of the property as the most significant deciding factor of price for this model, and the other features do not appear significant in the prediction process.\n",
    "\n",
    "The current data and features available may not be generalizing well for freehold and landed properties. I believe with the current dataset, I may be able to give more accurate predictions with non-landed properties, with lease period within 100 years. For these properties, the other features may have a greater significance and model may be less skewed by outlier cases.\n",
    "\n",
    "I hence decided to try experimenting the process on a subset of the dataset to see if prediction performance improves. The subset I chose this time only contained \"condominiums\", \"apartments\" and \"executive condominium\" property types, with lease period less than 100 yrs."
   ]
  },
  {
   "attachments": {},
   "cell_type": "markdown",
   "id": "a9051dc3",
   "metadata": {},
   "source": [
    "## Testing with subset of dataset"
   ]
  },
  {
   "cell_type": "code",
   "execution_count": 10,
   "id": "73af7709",
   "metadata": {},
   "outputs": [
    {
     "name": "stdout",
     "output_type": "stream",
     "text": [
      "Mean Absolute Error (Dummy): 464581.81872845744\n",
      "Mean Squared Error (Dummy): 603299436073.0874\n",
      "Root Mean Squared Error (Dummy): 776723.5261488397\n",
      "\n",
      "\n",
      "Mean Absolute Error (Rand_forest): 50252.91841137859\n",
      "Mean Squared Error (Rand_forest): 18587304674.689297\n",
      "Root Mean Squared Error (Rand_forest): 136335.26570439982\n"
     ]
    }
   ],
   "source": [
    "# Prepare subset of dataset (non-landed, lease within 100 yrs)\n",
    "datasetWithoutLanded_df = final_features.copy()\n",
    "outlier_index = datasetWithoutLanded_df[(datasetWithoutLanded_df.lease_left > 101) | \n",
    "                                        (datasetWithoutLanded_df.property_type > 3)].index\n",
    "datasetWithoutLanded_df.drop(outlier_index, axis=0, inplace=True)\n",
    "datasetWithoutLanded_df = datasetWithoutLanded_df.reset_index()\n",
    "\n",
    "# New train-test split\n",
    "y2 = datasetWithoutLanded_df[\"num_price\"]\n",
    "X2 = datasetWithoutLanded_df[[\"num_area\", \"floor_range\", \"year_transacted\", \"property_type\", \"lease_left\", \"float_x\", \"float_y\"]]\n",
    "train_X, val_X, train_y, val_y = train_test_split(X2, y2,random_state = 0)\n",
    "\n",
    "# Dummy Model (mean)\n",
    "dummy_regr2 = DummyRegressor(strategy=\"mean\")\n",
    "dummy_regr2.fit(train_X, train_y)\n",
    "data_pred = dummy_regr2.predict(val_X)\n",
    "\n",
    "print(\"Mean Absolute Error (Dummy): {}\".format(mean_absolute_error(val_y, data_pred)))\n",
    "print(\"Mean Squared Error (Dummy): {}\".format(mean_squared_error(val_y, data_pred)))\n",
    "print(\"Root Mean Squared Error (Dummy): {}\".format((mean_squared_error(val_y, data_pred)**0.5)))\n",
    "print(\"\\n\")\n",
    "\n",
    "# Random Forest Regressor\n",
    "rand_forest_2 = RandomForestRegressor()\n",
    "rand_forest_2.fit(train_X, train_y)\n",
    "data_pred = rand_forest_2.predict(val_X)\n",
    "\n",
    "print(\"Mean Absolute Error (Rand_forest): {}\".format(mean_absolute_error(val_y, data_pred)))\n",
    "print(\"Mean Squared Error (Rand_forest): {}\".format(mean_squared_error(val_y, data_pred)))\n",
    "print(\"Root Mean Squared Error (Rand_forest): {}\".format((mean_squared_error(val_y, data_pred)**0.5)))"
   ]
  },
  {
   "cell_type": "code",
   "execution_count": 28,
   "id": "e2c68107",
   "metadata": {
    "scrolled": false
   },
   "outputs": [
    {
     "data": {
      "image/png": "[encoded data removed]",
      "text/plain": [
       "<Figure size 432x288 with 1 Axes>"
      ]
     },
     "metadata": {
      "needs_background": "light"
     },
     "output_type": "display_data"
    }
   ],
   "source": [
    "# Calculating Feature Importance\n",
    "result = permutation_importance(rand_forest_2, val_X, val_y)\n",
    "feature_names = [\"num_area\", \"floor_range\", \"year_transacted\", \"property_type\", \"lease_left\", \"float_x\", \"float_y\"]\n",
    "forest_importances = pd.Series(result.importances_mean, index=feature_names)\n",
    "\n",
    "# Plotting Graph\n",
    "fig, ax = plt.subplots()\n",
    "forest_importances.plot.bar(yerr=result.importances_std, ax=ax)\n",
    "ax.set_title(\"Feature importances using permutation on full model\")\n",
    "ax.set_ylabel(\"Mean accuracy decrease\")\n",
    "fig.tight_layout()\n",
    "plt.show()"
   ]
  },
  {
   "attachments": {},
   "cell_type": "markdown",
   "id": "39862b0e",
   "metadata": {},
   "source": [
    "Significant improvement in the both models can be seen for both the dummy and the random forest model.\n",
    "\n",
    "The coordinates ('float_x' and 'float_y') and 'lease_left' features were used more in the prediction process, while property type reduced importance as a feature. In this case the random forest model could utilize other features provided more, and beat the dummy model signifacntly.\n",
    "\n",
    "I proceeded to build a model with only landed property data, to observe if a similar improvement happens."
   ]
  },
  {
   "cell_type": "code",
   "execution_count": 14,
   "id": "dbe29df6",
   "metadata": {},
   "outputs": [
    {
     "name": "stdout",
     "output_type": "stream",
     "text": [
      "Mean Absolute Error (Dummy): 2368177.1534657977\n",
      "Mean Squared Error (Dummy): 19715085162011.46\n",
      "Root Mean Squared Error (Dummy): 4440167.2448243955\n",
      "\n",
      "\n",
      "Mean Absolute Error (Rand_forest): 516887.46985575213\n",
      "Mean Squared Error (Rand_forest): 2605308817264.3364\n",
      "Root Mean Squared Error (Rand_forest): 1614096.904545801\n"
     ]
    }
   ],
   "source": [
    "datasetWithoutStrata_df = final_features.copy()\n",
    "outlier_index = datasetWithoutStrata_df[(datasetWithoutStrata_df.property_type < 4)].index\n",
    "datasetWithoutStrata_df.drop(outlier_index, axis=0, inplace=True)\n",
    "datasetWithoutStrata_df = datasetWithoutStrata_df.reset_index()\n",
    "\n",
    "# Training the model\n",
    "y3 = datasetWithoutStrata_df[\"num_price\"]\n",
    "X3 = datasetWithoutStrata_df[[\"num_area\", \"floor_range\", \"year_transacted\", \"property_type\", \"lease_left\", \"float_x\", \"float_y\"]]\n",
    "train_X, val_X, train_y, val_y = train_test_split(X3, y3,random_state = 0)\n",
    "\n",
    "# Dummy Model (mean)\n",
    "dummy_regr3 = DummyRegressor(strategy=\"mean\")\n",
    "dummy_regr3.fit(train_X, train_y)\n",
    "data_pred = dummy_regr3.predict(val_X)\n",
    "\n",
    "print(\"Mean Absolute Error (Dummy): {}\".format(mean_absolute_error(val_y, data_pred)))\n",
    "print(\"Mean Squared Error (Dummy): {}\".format(mean_squared_error(val_y, data_pred)))\n",
    "print(\"Root Mean Squared Error (Dummy): {}\".format((mean_squared_error(val_y, data_pred)**0.5)))\n",
    "print(\"\\n\")\n",
    "\n",
    "# Random Forest Regressor\n",
    "rand_forest_3 = RandomForestRegressor()\n",
    "rand_forest_3.fit(train_X, train_y)\n",
    "data_pred = rand_forest_3.predict(val_X)\n",
    "\n",
    "print(\"Mean Absolute Error (Rand_forest): {}\".format(mean_absolute_error(val_y, data_pred)))\n",
    "print(\"Mean Squared Error (Rand_forest): {}\".format(mean_squared_error(val_y, data_pred)))\n",
    "print(\"Root Mean Squared Error (Rand_forest): {}\".format((mean_squared_error(val_y, data_pred)**0.5)))"
   ]
  },
  {
   "attachments": {},
   "cell_type": "markdown",
   "id": "4013b44a",
   "metadata": {},
   "source": [
    "As seen above, while the model trained with the given features did significantly better than the dummy, it was not robust enough to accurately predict prices for landed properties, performing even more poorly than the model trained with the whole dataset. This may be because freehold property prices are affected more greatly by other factors (age of property, current state of the property etc.) which were not accounted for.\n",
    "\n",
    "## Model Selection (Performance of other types of regressor models)\n",
    "\n",
    "From here onwards, I decided to pivot my project to only predict prices for non-landed properties within the 100 year lease period.\n",
    "\n",
    "In the final cell below, I tested a few other types of models to compare against the tree based model, Random Forest. \n",
    "- Ridge Regression:  to test parametric models.\n",
    "- Multi-layer Perceptron Regressor: to test deep learning models. (Tweaked the learning rate and max-iteration for this, since default learning rate could not converge with the default number of iterations)"
   ]
  },
  {
   "cell_type": "code",
   "execution_count": 21,
   "id": "52372394",
   "metadata": {},
   "outputs": [
    {
     "name": "stdout",
     "output_type": "stream",
     "text": [
      "Mean Absolute Error (Ridge_reg): 241932.6675954855\n",
      "Mean Squared Error (Ridge_reg): 202936730694.41586\n",
      "Root Mean Squared Error (Ridge_reg): 450484.99497143726\n",
      "\n",
      "\n",
      "Mean Absolute Error (Neural_network_reg): 216208.7200071003\n",
      "Mean Squared Error (Neural_network_reg): 169923617576.2644\n",
      "Root Mean Squared Error (Neural_network_reg): 412217.9248604607\n"
     ]
    }
   ],
   "source": [
    "from sklearn import linear_model\n",
    "from sklearn.neural_network import MLPRegressor\n",
    "\n",
    "# Reset train-test split to subset of dataset\n",
    "train_X, val_X, train_y, val_y = train_test_split(X2, y2,random_state = 0)\n",
    "\n",
    "# Multi-variable Linear Regression\n",
    "linear_reg = linear_model.Ridge(alpha=.5)\n",
    "linear_reg.fit(train_X, train_y)\n",
    "data_pred = linear_reg.predict(val_X)\n",
    "\n",
    "print(\"Mean Absolute Error (Ridge_reg): {}\".format(mean_absolute_error(val_y, data_pred)))\n",
    "print(\"Mean Squared Error (Ridge_reg): {}\".format(mean_squared_error(val_y, data_pred)))\n",
    "print(\"Root Mean Squared Error (Ridge_reg): {}\".format((mean_squared_error(val_y, data_pred)**0.5)))\n",
    "print(\"\\n\")\n",
    "\n",
    "# Neural Network (Multi-layer Perceptron Regressor) (Default Params)\n",
    "neural_network_reg = MLPRegressor(random_state=1, solver='adam', max_iter=500, learning_rate_init= 0.01)\n",
    "neural_network_reg.fit(train_X, train_y)\n",
    "data_pred = neural_network_reg.predict(val_X)\n",
    "\n",
    "print(\"Mean Absolute Error (Neural_network_reg): {}\".format(mean_absolute_error(val_y, data_pred)))\n",
    "print(\"Mean Squared Error (Neural_network_reg): {}\".format(mean_squared_error(val_y, data_pred)))\n",
    "print(\"Root Mean Squared Error (Neural_network_reg): {}\".format((mean_squared_error(val_y, data_pred)**0.5)))"
   ]
  },
  {
   "attachments": {},
   "cell_type": "markdown",
   "id": "6b0d7f85",
   "metadata": {},
   "source": [
    "Compared to random forest regressor:\n",
    "\n",
    "- Mean Absolute Error (Rand_forest): 50252.91841137859\n",
    "- Mean Squared Error (Rand_forest): 18587304674.689297\n",
    "- Root Mean Squared Error (Rand_forest): 136335.26570439982\n",
    "\n",
    "Without any hyperparameter tuning, tree based methods seem to outperform other types of models significantly."
   ]
  },
  {
   "attachments": {},
   "cell_type": "markdown",
   "id": "0c25d22a",
   "metadata": {},
   "source": [
    "**Conclusion:**\n",
    "- With this limited amount of features in the dataset acquired, the model was not robust enough to predict accurately the prices of landed properties. Reducing the scope to only condominiums, executive condominiums and apartments within 100 years leasehold significantly improved accuracy.\n",
    "\n",
    "- Comparing different types of models, it appears that Random Forest performed the best for this prediction task.\n",
    "\n",
    "**Constraints and Possible Future Areas of Improvement:**\n",
    "- There are many more factors that could affect property prices, but were not included in the features. One possible way I could go about solving this would be to obtain data from other sources such as the OneMap API, and extract new features such as the amenities and scenery near the property.\n",
    "\n",
    "- Another possible approach could be to use different types of models (that perform better on less representative datasets) to predict prices of landed properties, and use the different models to output predictions for different categories depending on user input (landed or non-landed etc.), should I want this project to still predict prices for all types of private property."
   ]
  }
 ],
 "metadata": {
  "kernelspec": {
   "display_name": "Python 3 (ipykernel)",
   "language": "python",
   "name": "python3"
  },
  "language_info": {
   "codemirror_mode": {
    "name": "ipython",
    "version": 3
   },
   "file_extension": ".py",
   "mimetype": "text/x-python",
   "name": "python",
   "nbconvert_exporter": "python",
   "pygments_lexer": "ipython3",
   "version": "3.9.12"
  }
 },
 "nbformat": 4,
 "nbformat_minor": 5
}
