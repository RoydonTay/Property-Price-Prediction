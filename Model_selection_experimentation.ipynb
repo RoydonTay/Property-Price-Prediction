{
 "cells": [
  {
   "attachments": {},
   "cell_type": "markdown",
   "id": "47ffd0db",
   "metadata": {},
   "source": [
    "# Model Selecton and Experimentation"
   ]
  },
  {
   "attachments": {},
   "cell_type": "markdown",
   "id": "f72efef9",
   "metadata": {},
   "source": [
    "In this notebook, I try different models to predict the property prices based on my curated dataset."
   ]
  },
  {
   "cell_type": "code",
   "execution_count": 1,
   "id": "0ea52d48",
   "metadata": {},
   "outputs": [],
   "source": [
    "import numpy as np\n",
    "import pandas as pd\n",
    "import matplotlib.pyplot as plt\n",
    "import seaborn as sns\n",
    "\n",
    "import warnings\n",
    "warnings.simplefilter(action='ignore', category=FutureWarning)"
   ]
  },
  {
   "cell_type": "code",
   "execution_count": 2,
   "id": "83fdd015",
   "metadata": {},
   "outputs": [
    {
     "data": {
      "text/html": [
       "<div>\n",
       "<style scoped>\n",
       "    .dataframe tbody tr th:only-of-type {\n",
       "        vertical-align: middle;\n",
       "    }\n",
       "\n",
       "    .dataframe tbody tr th {\n",
       "        vertical-align: top;\n",
       "    }\n",
       "\n",
       "    .dataframe thead th {\n",
       "        text-align: right;\n",
       "    }\n",
       "</style>\n",
       "<table border=\"1\" class=\"dataframe\">\n",
       "  <thead>\n",
       "    <tr style=\"text-align: right;\">\n",
       "      <th></th>\n",
       "      <th>num_area</th>\n",
       "      <th>lease_left</th>\n",
       "      <th>float_x</th>\n",
       "      <th>float_y</th>\n",
       "      <th>num_price</th>\n",
       "      <th>floor_range</th>\n",
       "      <th>year_transacted</th>\n",
       "      <th>property_type</th>\n",
       "    </tr>\n",
       "  </thead>\n",
       "  <tbody>\n",
       "    <tr>\n",
       "      <th>0</th>\n",
       "      <td>524.3</td>\n",
       "      <td>999.0</td>\n",
       "      <td>22734.925781</td>\n",
       "      <td>29502.419922</td>\n",
       "      <td>5500000</td>\n",
       "      <td>0.0</td>\n",
       "      <td>3.0</td>\n",
       "      <td>7.0</td>\n",
       "    </tr>\n",
       "    <tr>\n",
       "      <th>1</th>\n",
       "      <td>308.0</td>\n",
       "      <td>999.0</td>\n",
       "      <td>22734.925781</td>\n",
       "      <td>29502.419922</td>\n",
       "      <td>5000000</td>\n",
       "      <td>0.0</td>\n",
       "      <td>1.0</td>\n",
       "      <td>7.0</td>\n",
       "    </tr>\n",
       "    <tr>\n",
       "      <th>2</th>\n",
       "      <td>314.0</td>\n",
       "      <td>999.0</td>\n",
       "      <td>22734.925781</td>\n",
       "      <td>29502.419922</td>\n",
       "      <td>4750000</td>\n",
       "      <td>0.0</td>\n",
       "      <td>1.0</td>\n",
       "      <td>7.0</td>\n",
       "    </tr>\n",
       "    <tr>\n",
       "      <th>3</th>\n",
       "      <td>308.0</td>\n",
       "      <td>999.0</td>\n",
       "      <td>22734.925781</td>\n",
       "      <td>29502.419922</td>\n",
       "      <td>5200000</td>\n",
       "      <td>0.0</td>\n",
       "      <td>4.0</td>\n",
       "      <td>7.0</td>\n",
       "    </tr>\n",
       "    <tr>\n",
       "      <th>4</th>\n",
       "      <td>257.0</td>\n",
       "      <td>999.0</td>\n",
       "      <td>20914.199219</td>\n",
       "      <td>30589.107422</td>\n",
       "      <td>4600000</td>\n",
       "      <td>0.0</td>\n",
       "      <td>5.0</td>\n",
       "      <td>6.0</td>\n",
       "    </tr>\n",
       "    <tr>\n",
       "      <th>...</th>\n",
       "      <td>...</td>\n",
       "      <td>...</td>\n",
       "      <td>...</td>\n",
       "      <td>...</td>\n",
       "      <td>...</td>\n",
       "      <td>...</td>\n",
       "      <td>...</td>\n",
       "      <td>...</td>\n",
       "    </tr>\n",
       "    <tr>\n",
       "      <th>131733</th>\n",
       "      <td>304.1</td>\n",
       "      <td>999.0</td>\n",
       "      <td>27055.871094</td>\n",
       "      <td>45402.906250</td>\n",
       "      <td>3430000</td>\n",
       "      <td>0.0</td>\n",
       "      <td>5.0</td>\n",
       "      <td>6.0</td>\n",
       "    </tr>\n",
       "    <tr>\n",
       "      <th>131734</th>\n",
       "      <td>268.2</td>\n",
       "      <td>999.0</td>\n",
       "      <td>27055.871094</td>\n",
       "      <td>45402.906250</td>\n",
       "      <td>2480000</td>\n",
       "      <td>0.0</td>\n",
       "      <td>0.0</td>\n",
       "      <td>6.0</td>\n",
       "    </tr>\n",
       "    <tr>\n",
       "      <th>131735</th>\n",
       "      <td>215.0</td>\n",
       "      <td>999.0</td>\n",
       "      <td>27055.871094</td>\n",
       "      <td>45402.906250</td>\n",
       "      <td>1100000</td>\n",
       "      <td>0.0</td>\n",
       "      <td>2.0</td>\n",
       "      <td>1.0</td>\n",
       "    </tr>\n",
       "    <tr>\n",
       "      <th>131736</th>\n",
       "      <td>295.3</td>\n",
       "      <td>999.0</td>\n",
       "      <td>27055.871094</td>\n",
       "      <td>45402.906250</td>\n",
       "      <td>3400000</td>\n",
       "      <td>0.0</td>\n",
       "      <td>4.0</td>\n",
       "      <td>6.0</td>\n",
       "    </tr>\n",
       "    <tr>\n",
       "      <th>131737</th>\n",
       "      <td>193.0</td>\n",
       "      <td>999.0</td>\n",
       "      <td>27055.871094</td>\n",
       "      <td>45402.906250</td>\n",
       "      <td>1300000</td>\n",
       "      <td>0.0</td>\n",
       "      <td>4.0</td>\n",
       "      <td>1.0</td>\n",
       "    </tr>\n",
       "  </tbody>\n",
       "</table>\n",
       "<p>131738 rows × 8 columns</p>\n",
       "</div>"
      ],
      "text/plain": [
       "        num_area  lease_left       float_x       float_y  num_price  \\\n",
       "0          524.3       999.0  22734.925781  29502.419922    5500000   \n",
       "1          308.0       999.0  22734.925781  29502.419922    5000000   \n",
       "2          314.0       999.0  22734.925781  29502.419922    4750000   \n",
       "3          308.0       999.0  22734.925781  29502.419922    5200000   \n",
       "4          257.0       999.0  20914.199219  30589.107422    4600000   \n",
       "...          ...         ...           ...           ...        ...   \n",
       "131733     304.1       999.0  27055.871094  45402.906250    3430000   \n",
       "131734     268.2       999.0  27055.871094  45402.906250    2480000   \n",
       "131735     215.0       999.0  27055.871094  45402.906250    1100000   \n",
       "131736     295.3       999.0  27055.871094  45402.906250    3400000   \n",
       "131737     193.0       999.0  27055.871094  45402.906250    1300000   \n",
       "\n",
       "        floor_range  year_transacted  property_type  \n",
       "0               0.0              3.0            7.0  \n",
       "1               0.0              1.0            7.0  \n",
       "2               0.0              1.0            7.0  \n",
       "3               0.0              4.0            7.0  \n",
       "4               0.0              5.0            6.0  \n",
       "...             ...              ...            ...  \n",
       "131733          0.0              5.0            6.0  \n",
       "131734          0.0              0.0            6.0  \n",
       "131735          0.0              2.0            1.0  \n",
       "131736          0.0              4.0            6.0  \n",
       "131737          0.0              4.0            1.0  \n",
       "\n",
       "[131738 rows x 8 columns]"
      ]
     },
     "execution_count": 2,
     "metadata": {},
     "output_type": "execute_result"
    }
   ],
   "source": [
    "final_features = pd.read_pickle(r\"C:\\Users\\Roydon\\Desktop\\Property Price Project\\Final Project Code\\Data\\final_features.pkl\")\n",
    "final_features"
   ]
  },
  {
   "cell_type": "code",
   "execution_count": 3,
   "id": "17beefc1",
   "metadata": {},
   "outputs": [],
   "source": [
    "from sklearn.model_selection import train_test_split\n",
    "\n",
    "# Split data into training and validation data, for both features and target\n",
    "y = final_features[\"num_price\"]\n",
    "X = final_features[[\"num_area\", \"floor_range\", \"year_transacted\", \"property_type\", \"lease_left\", \"float_x\", \"float_y\"]]\n",
    "train_X, val_X, train_y, val_y = train_test_split(X, y, random_state=0)"
   ]
  },
  {
   "attachments": {},
   "cell_type": "markdown",
   "id": "e8eaaec4",
   "metadata": {},
   "source": [
    "### Random Forest Regressor Implementation (Vs dummy)\n",
    "\n",
    "Here I implement a dummy regressor that outputs the mean for all predictions, as a benchmark model to compare my subsequent models with. I will compare the Mean Absolute Error (MAE), Mean Squared Error (MSE) and Root Mean Squared Error (RMSE). First, I compare it with Random Forest Regressor."
   ]
  },
  {
   "cell_type": "code",
   "execution_count": 4,
   "id": "e16f8b14",
   "metadata": {},
   "outputs": [
    {
     "name": "stdout",
     "output_type": "stream",
     "text": [
      "Mean Absolute Error (Dummy): 1024629.4251960467\n",
      "Mean Squared Error (Dummy): 5285973826681.23\n",
      "Root Mean Squared Error (Dummy): 2299124.5783300283\n",
      "\n",
      "\n",
      "Mean Absolute Error (Rand_forest): 124655.67314286968\n",
      "Mean Squared Error (Rand_forest): 536537898942.81714\n",
      "Root Mean Squared Error (Rand_forest): 732487.4735739972\n"
     ]
    }
   ],
   "source": [
    "from sklearn.ensemble import RandomForestRegressor\n",
    "from sklearn.dummy import DummyRegressor\n",
    "from sklearn.metrics import mean_absolute_error\n",
    "from sklearn.metrics import mean_squared_error\n",
    "\n",
    "import warnings\n",
    "warnings.simplefilter(action='ignore', category=FutureWarning)\n",
    "\n",
    "# Dummy Model (mean)\n",
    "dummy_regr = DummyRegressor(strategy=\"mean\")\n",
    "dummy_regr.fit(train_X, train_y)\n",
    "data_pred = dummy_regr.predict(val_X)\n",
    "\n",
    "print(\"Mean Absolute Error (Dummy): {}\".format(mean_absolute_error(val_y, data_pred)))\n",
    "print(\"Mean Squared Error (Dummy): {}\".format(mean_squared_error(val_y, data_pred)))\n",
    "print(\"Root Mean Squared Error (Dummy): {}\".format((mean_squared_error(val_y, data_pred)**0.5)))\n",
    "print(\"\\n\")\n",
    "\n",
    "# Random Forest Regressor\n",
    "rand_forest = RandomForestRegressor()\n",
    "rand_forest.fit(train_X, train_y)\n",
    "data_pred = rand_forest.predict(val_X)\n",
    "\n",
    "# Printing Accuracy of Model\n",
    "print(\"Mean Absolute Error (Rand_forest): {}\".format(mean_absolute_error(val_y, data_pred)))\n",
    "print(\"Mean Squared Error (Rand_forest): {}\".format(mean_squared_error(val_y, data_pred)))\n",
    "print(\"Root Mean Squared Error (Rand_forest): {}\".format((mean_squared_error(val_y, data_pred)**0.5)))"
   ]
  },
  {
   "attachments": {},
   "cell_type": "markdown",
   "id": "bd270b3a",
   "metadata": {},
   "source": [
    "The **random forest regressor** performed **worse than the dummy regressor for the MAE**, but performed **much better for MSE and RMSE**, which penalises more for wrong predictions. The random forest is more robust in handling outlier cases, which exist in the dataset, especially for the freehold and landed properties, as I observed in the EDA notebook."
   ]
  },
  {
   "cell_type": "code",
   "execution_count": 5,
   "id": "9e269e90",
   "metadata": {
    "scrolled": true
   },
   "outputs": [
    {
     "data": {
      "image/png": "[encoded data removed]",
      "text/plain": [
       "<Figure size 432x288 with 1 Axes>"
      ]
     },
     "metadata": {
      "needs_background": "light"
     },
     "output_type": "display_data"
    }
   ],
   "source": [
    "from sklearn.inspection import permutation_importance\n",
    "\n",
    "# Calculating Feature Importance\n",
    "result = permutation_importance(rand_forest, val_X, val_y)\n",
    "feature_names = [\"num_area\", \"floor_range\", \"year_transacted\", \"property_type\", \"lease_left\", \"float_x\", \"float_y\"]\n",
    "forest_importances = pd.Series(result.importances_mean, index=feature_names)\n",
    "\n",
    "# Plotting Graph\n",
    "fig, ax = plt.subplots()\n",
    "forest_importances.plot.bar(yerr=result.importances_std, ax=ax)\n",
    "ax.set_title(\"Feature importances using permutation on full model\")\n",
    "ax.set_ylabel(\"Mean accuracy decrease\")\n",
    "fig.tight_layout()\n",
    "plt.show()"
   ]
  },
  {
   "attachments": {},
   "cell_type": "markdown",
   "id": "8168e3f8",
   "metadata": {},
   "source": [
    "As seen from the above plot, the random forest model uses floor area of the property as the most significant deciding factor of price for this model, and the other features do not appear significant in the prediction process.\n",
    "\n",
    "The current data and features available may not be generalizing well for freehold and landed properties. I believe with the current dataset, I may be able to give more accurate predictions with non-landed properties, with lease period within 100 years. For these properties, the other features may have a greater significance and model may be less skewed by outlier cases.\n",
    "\n",
    "I hence decided to try experimenting the process on a subset of the dataset to see if prediction performance improves. The subset I chose this time only contained \"condominiums\", \"apartments\" and \"executive condominium\" property types, with lease period less than 100 yrs."
   ]
  },
  {
   "attachments": {},
   "cell_type": "markdown",
   "id": "a9051dc3",
   "metadata": {},
   "source": [
    "## Testing with subset of dataset"
   ]
  },
  {
   "cell_type": "code",
   "execution_count": 6,
   "id": "73af7709",
   "metadata": {},
   "outputs": [
    {
     "name": "stdout",
     "output_type": "stream",
     "text": [
      "Mean Absolute Error (Dummy): 464581.81872845744\n",
      "Mean Squared Error (Dummy): 603299436073.0874\n",
      "Root Mean Squared Error (Dummy): 776723.5261488397\n",
      "\n",
      "\n",
      "Mean Absolute Error (Rand_forest): 50233.939278147445\n",
      "Mean Squared Error (Rand_forest): 19856509740.136837\n",
      "Root Mean Squared Error (Rand_forest): 140913.12834557623\n"
     ]
    }
   ],
   "source": [
    "# Prepare subset of dataset (non-landed, lease within 100 yrs)\n",
    "datasetWithoutLanded_df = final_features.copy()\n",
    "outlier_index = datasetWithoutLanded_df[(datasetWithoutLanded_df.lease_left > 101) | \n",
    "                                        (datasetWithoutLanded_df.property_type > 3)].index\n",
    "datasetWithoutLanded_df.drop(outlier_index, axis=0, inplace=True)\n",
    "datasetWithoutLanded_df = datasetWithoutLanded_df.reset_index()\n",
    "\n",
    "# New train-test split\n",
    "y2 = datasetWithoutLanded_df[\"num_price\"]\n",
    "X2 = datasetWithoutLanded_df[[\"num_area\", \"floor_range\", \"year_transacted\", \"property_type\", \"lease_left\", \"float_x\", \"float_y\"]]\n",
    "train_X, val_X, train_y, val_y = train_test_split(X2, y2,random_state = 0)\n",
    "\n",
    "# Dummy Model (mean)\n",
    "dummy_regr2 = DummyRegressor(strategy=\"mean\")\n",
    "dummy_regr2.fit(train_X, train_y)\n",
    "data_pred = dummy_regr2.predict(val_X)\n",
    "\n",
    "print(\"Mean Absolute Error (Dummy): {}\".format(mean_absolute_error(val_y, data_pred)))\n",
    "print(\"Mean Squared Error (Dummy): {}\".format(mean_squared_error(val_y, data_pred)))\n",
    "print(\"Root Mean Squared Error (Dummy): {}\".format((mean_squared_error(val_y, data_pred)**0.5)))\n",
    "print(\"\\n\")\n",
    "\n",
    "# Random Forest Regressor\n",
    "rand_forest_2 = RandomForestRegressor()\n",
    "rand_forest_2.fit(train_X, train_y)\n",
    "data_pred = rand_forest_2.predict(val_X)\n",
    "\n",
    "print(\"Mean Absolute Error (Rand_forest): {}\".format(mean_absolute_error(val_y, data_pred)))\n",
    "print(\"Mean Squared Error (Rand_forest): {}\".format(mean_squared_error(val_y, data_pred)))\n",
    "print(\"Root Mean Squared Error (Rand_forest): {}\".format((mean_squared_error(val_y, data_pred)**0.5)))"
   ]
  },
  {
   "cell_type": "code",
   "execution_count": 7,
   "id": "e2c68107",
   "metadata": {
    "scrolled": false
   },
   "outputs": [
    {
     "data": {
      "image/png": "[encoded data removed]",
      "text/plain": [
       "<Figure size 432x288 with 1 Axes>"
      ]
     },
     "metadata": {
      "needs_background": "light"
     },
     "output_type": "display_data"
    }
   ],
   "source": [
    "# Calculating Feature Importance\n",
    "result = permutation_importance(rand_forest_2, val_X, val_y)\n",
    "feature_names = [\"num_area\", \"floor_range\", \"year_transacted\", \"property_type\", \"lease_left\", \"float_x\", \"float_y\"]\n",
    "forest_importances = pd.Series(result.importances_mean, index=feature_names)\n",
    "\n",
    "# Plotting Graph\n",
    "fig, ax = plt.subplots()\n",
    "forest_importances.plot.bar(yerr=result.importances_std, ax=ax)\n",
    "ax.set_title(\"Feature importances using permutation on full model\")\n",
    "ax.set_ylabel(\"Mean accuracy decrease\")\n",
    "fig.tight_layout()\n",
    "plt.show()"
   ]
  },
  {
   "attachments": {},
   "cell_type": "markdown",
   "id": "39862b0e",
   "metadata": {},
   "source": [
    "Significant improvement in the both models can be seen for both the dummy and the random forest model.\n",
    "\n",
    "The coordinates ('float_x' and 'float_y') and 'lease_left' features were used more in the prediction process, while property type reduced importance as a feature. In this case the random forest model could utilize other features provided more, and beat the dummy model signifacntly.\n",
    "\n",
    "I proceeded to build a model with only landed property data, to observe if a similar improvement happens."
   ]
  },
  {
   "cell_type": "code",
   "execution_count": 8,
   "id": "dbe29df6",
   "metadata": {},
   "outputs": [
    {
     "name": "stdout",
     "output_type": "stream",
     "text": [
      "Mean Absolute Error (Dummy): 2368177.1534657977\n",
      "Mean Squared Error (Dummy): 19715085162011.46\n",
      "Root Mean Squared Error (Dummy): 4440167.2448243955\n",
      "\n",
      "\n",
      "Mean Absolute Error (Rand_forest): 518904.02159152593\n",
      "Mean Squared Error (Rand_forest): 2532889149984.595\n",
      "Root Mean Squared Error (Rand_forest): 1591505.3094427914\n"
     ]
    }
   ],
   "source": [
    "datasetWithoutStrata_df = final_features.copy()\n",
    "outlier_index = datasetWithoutStrata_df[(datasetWithoutStrata_df.property_type < 4)].index\n",
    "datasetWithoutStrata_df.drop(outlier_index, axis=0, inplace=True)\n",
    "datasetWithoutStrata_df = datasetWithoutStrata_df.reset_index()\n",
    "\n",
    "# Training the model\n",
    "y3 = datasetWithoutStrata_df[\"num_price\"]\n",
    "X3 = datasetWithoutStrata_df[[\"num_area\", \"floor_range\", \"year_transacted\", \"property_type\", \"lease_left\", \"float_x\", \"float_y\"]]\n",
    "train_X, val_X, train_y, val_y = train_test_split(X3, y3,random_state = 0)\n",
    "\n",
    "# Dummy Model (mean)\n",
    "dummy_regr3 = DummyRegressor(strategy=\"mean\")\n",
    "dummy_regr3.fit(train_X, train_y)\n",
    "data_pred = dummy_regr3.predict(val_X)\n",
    "\n",
    "print(\"Mean Absolute Error (Dummy): {}\".format(mean_absolute_error(val_y, data_pred)))\n",
    "print(\"Mean Squared Error (Dummy): {}\".format(mean_squared_error(val_y, data_pred)))\n",
    "print(\"Root Mean Squared Error (Dummy): {}\".format((mean_squared_error(val_y, data_pred)**0.5)))\n",
    "print(\"\\n\")\n",
    "\n",
    "# Random Forest Regressor\n",
    "rand_forest_3 = RandomForestRegressor()\n",
    "rand_forest_3.fit(train_X, train_y)\n",
    "data_pred = rand_forest_3.predict(val_X)\n",
    "\n",
    "print(\"Mean Absolute Error (Rand_forest): {}\".format(mean_absolute_error(val_y, data_pred)))\n",
    "print(\"Mean Squared Error (Rand_forest): {}\".format(mean_squared_error(val_y, data_pred)))\n",
    "print(\"Root Mean Squared Error (Rand_forest): {}\".format((mean_squared_error(val_y, data_pred)**0.5)))"
   ]
  },
  {
   "attachments": {},
   "cell_type": "markdown",
   "id": "4013b44a",
   "metadata": {},
   "source": [
    "As seen above, while the model trained with the given features did significantly better than the dummy, it was not robust enough to accurately predict prices for landed properties, performing even more poorly than the model trained with the whole dataset. This may be because freehold property prices are affected more greatly by other factors (age of property, current state of the property etc.) which were not accounted for.\n",
    "\n",
    "## Model Selection (Performance of other types of regressor models)\n",
    "\n",
    "From here onwards, I decided to pivot my project to only predict prices for non-landed properties within the 100 year lease period.\n",
    "\n",
    "In the final cell below, I tested a few other types of models to compare against the tree based model, Random Forest. \n",
    "- Ridge Regression:  to test parametric models.\n",
    "- Multi-layer Perceptron Regressor: to test deep learning models. (Tweaked the learning rate and max-iteration for this, since default learning rate could not converge with the default number of iterations)"
   ]
  },
  {
   "cell_type": "code",
   "execution_count": 15,
   "id": "52372394",
   "metadata": {},
   "outputs": [
    {
     "name": "stdout",
     "output_type": "stream",
     "text": [
      "Mean Absolute Error (Ridge_reg): 241932.6675954855\n",
      "Mean Squared Error (Ridge_reg): 202936730694.41586\n",
      "Root Mean Squared Error (Ridge_reg): 450484.99497143726\n",
      "\n",
      "\n",
      "Mean Absolute Error (Neural_network_reg_1): 224674.1611956243\n",
      "Mean Squared Error (Neural_network_reg_1): 165169675503.06927\n",
      "Root Mean Squared Error (Neural_network_reg_1): 406410.7226723592\n",
      "\n",
      "\n",
      "Mean Absolute Error (Neural_network_reg_2): 231979.9714814797\n",
      "Mean Squared Error (Neural_network_reg_2): 178335769680.12024\n",
      "Root Mean Squared Error (Neural_network_reg_2): 422298.1999489463\n",
      "\n",
      "\n",
      "Mean Absolute Error (Neural_network_reg_3): 250017.58260868225\n",
      "Mean Squared Error (Neural_network_reg_3): 205926283647.50967\n",
      "Root Mean Squared Error (Neural_network_reg_3): 453791.013185045\n"
     ]
    }
   ],
   "source": [
    "from sklearn import linear_model\n",
    "from sklearn.neural_network import MLPRegressor\n",
    "\n",
    "# Reset train-test split to subset of dataset\n",
    "train_X, val_X, train_y, val_y = train_test_split(X2, y2,random_state = 0)\n",
    "\n",
    "# Multi-variable Linear Regression\n",
    "linear_reg = linear_model.Ridge(alpha=.5)\n",
    "linear_reg.fit(train_X, train_y)\n",
    "data_pred = linear_reg.predict(val_X)\n",
    "\n",
    "print(\"Mean Absolute Error (Ridge_reg): {}\".format(mean_absolute_error(val_y, data_pred)))\n",
    "print(\"Mean Squared Error (Ridge_reg): {}\".format(mean_squared_error(val_y, data_pred)))\n",
    "print(\"Root Mean Squared Error (Ridge_reg): {}\".format((mean_squared_error(val_y, data_pred)**0.5)))\n",
    "print(\"\\n\")\n",
    "\n",
    "# Neural Network (Multi-layer Perceptron Regressor) (1 layer, 10 nodes)\n",
    "neural_network_reg = MLPRegressor(hidden_layer_sizes=(10,), random_state=1, solver='adam', max_iter=500, learning_rate_init= 0.01)\n",
    "neural_network_reg.fit(train_X, train_y)\n",
    "data_pred = neural_network_reg.predict(val_X)\n",
    "\n",
    "print(\"Mean Absolute Error (Neural_network_reg_1): {}\".format(mean_absolute_error(val_y, data_pred)))\n",
    "print(\"Mean Squared Error (Neural_network_reg_1): {}\".format(mean_squared_error(val_y, data_pred)))\n",
    "print(\"Root Mean Squared Error (Neural_network_reg_1): {}\".format((mean_squared_error(val_y, data_pred)**0.5)))\n",
    "print(\"\\n\")\n",
    "\n",
    "# Neural Network (Multi-layer Perceptron Regressor) (1 layer, 50 nodes)\n",
    "neural_network_reg = MLPRegressor(hidden_layer_sizes=(50,), random_state=1, solver='adam', max_iter=500, learning_rate_init= 0.01)\n",
    "neural_network_reg.fit(train_X, train_y)\n",
    "data_pred = neural_network_reg.predict(val_X)\n",
    "\n",
    "print(\"Mean Absolute Error (Neural_network_reg_2): {}\".format(mean_absolute_error(val_y, data_pred)))\n",
    "print(\"Mean Squared Error (Neural_network_reg_2): {}\".format(mean_squared_error(val_y, data_pred)))\n",
    "print(\"Root Mean Squared Error (Neural_network_reg_2): {}\".format((mean_squared_error(val_y, data_pred)**0.5)))\n",
    "print(\"\\n\")\n",
    "\n",
    "# Neural Network (Multi-layer Perceptron Regressor) (2 layer, 10 nodes each)\n",
    "neural_network_reg = MLPRegressor(hidden_layer_sizes=(10, 10), random_state=1, solver='adam', max_iter=500, learning_rate_init= 0.01)\n",
    "neural_network_reg.fit(train_X, train_y)\n",
    "data_pred = neural_network_reg.predict(val_X)\n",
    "\n",
    "print(\"Mean Absolute Error (Neural_network_reg_3): {}\".format(mean_absolute_error(val_y, data_pred)))\n",
    "print(\"Mean Squared Error (Neural_network_reg_3): {}\".format(mean_squared_error(val_y, data_pred)))\n",
    "print(\"Root Mean Squared Error (Neural_network_reg_3): {}\".format((mean_squared_error(val_y, data_pred)**0.5)))"
   ]
  },
  {
   "attachments": {},
   "cell_type": "markdown",
   "id": "6b0d7f85",
   "metadata": {},
   "source": [
    "Compared to random forest regressor:\n",
    "\n",
    "- Mean Absolute Error (Rand_forest): 50252.91841137859\n",
    "- Mean Squared Error (Rand_forest): 18587304674.689297\n",
    "- Root Mean Squared Error (Rand_forest): 136335.26570439982\n",
    "\n",
    "Without any hyperparameter tuning, tree based model seem to outperformed other types of models significantly. Adding more nodes and layers of the Neural Network model appears to reduce model accuracy, and its performance it is still far from the accuracy of the Random Forest model.\n",
    "\n",
    "With this in consideration, I decided to compare Random Forest to another tree-based model, XGBoost, to see which performs better.\n",
    "\n",
    "## Comparing Tree Based Models (XGBoost Vs Random Forest)"
   ]
  },
  {
   "cell_type": "code",
   "execution_count": 18,
   "id": "07554240",
   "metadata": {},
   "outputs": [
    {
     "name": "stdout",
     "output_type": "stream",
     "text": [
      "Mean Absolute Error (XGBoost_Reg): 129412.97860196742\n",
      "Mean Squared Error (XGBoost_Reg): 64424656121.90194\n",
      "Root Mean Squared Error (XGBoost_Reg): 253820.12552573907\n"
     ]
    }
   ],
   "source": [
    "import xgboost as xg\n",
    "\n",
    "xgb_reg = xg.XGBRegressor(objective ='reg:squarederror', n_estimators = 10, seed = 123)\n",
    "xgb_reg.fit(train_X, train_y)\n",
    "data_pred = xgb_reg.predict(val_X)\n",
    "\n",
    "print(\"Mean Absolute Error (XGBoost_Reg): {}\".format(mean_absolute_error(val_y, data_pred)))\n",
    "print(\"Mean Squared Error (XGBoost_Reg): {}\".format(mean_squared_error(val_y, data_pred)))\n",
    "print(\"Root Mean Squared Error (XGBoost_Reg): {}\".format((mean_squared_error(val_y, data_pred)**0.5)))"
   ]
  },
  {
   "attachments": {},
   "cell_type": "markdown",
   "id": "8c36af39",
   "metadata": {},
   "source": [
    "XGBoost perfromed better than Linear and Neural Network methods as well, but still did not beat Random Forest Model. Hence, I decided to go with the Random Forest model."
   ]
  },
  {
   "cell_type": "code",
   "execution_count": 16,
   "id": "384bb2ae",
   "metadata": {},
   "outputs": [],
   "source": [
    "import pickle\n",
    "\n",
    "# Saving best model to pickle\n",
    "pickle.dump(rand_forest_2, open('best_model.pkl', 'wb'))"
   ]
  }
 ],
 "metadata": {
  "kernelspec": {
   "display_name": "Python 3 (ipykernel)",
   "language": "python",
   "name": "python3"
  },
  "language_info": {
   "codemirror_mode": {
    "name": "ipython",
    "version": 3
   },
   "file_extension": ".py",
   "mimetype": "text/x-python",
   "name": "python",
   "nbconvert_exporter": "python",
   "pygments_lexer": "ipython3",
   "version": "3.9.12"
  }
 },
 "nbformat": 4,
 "nbformat_minor": 5
}
